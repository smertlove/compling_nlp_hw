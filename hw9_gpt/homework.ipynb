{
 "cells": [
  {
   "cell_type": "markdown",
   "id": "1dba7c0d",
   "metadata": {},
   "source": [
    "# Домашнее задание № 9"
   ]
  },
  {
   "cell_type": "markdown",
   "id": "2444e3fe",
   "metadata": {},
   "source": [
    "# Задание 1 (10 баллов)\n",
    "\n",
    "Визуализируйте attention для одного любого текста после нескольких последовательных эпох обучения, чтобы проанализировать как модель учится понимать текст. \n",
    "Для этого вам понадобится так изменить код модели из семинара, чтобы Block класс возвращал attention активации (последнее значение wei), а также все остальные классы, которые вызывают Block, чтобы они ожидали, что модель вернет не только out но и wei. В самом верхнеуровневом классе BigramLanguageModel вы можете добавить атрибут last_attentions и в forward перезаписывать его значения последним значением attention (но можно придумать и другой способ). После каждой эпохи вызовите модель на одном примере из датасета и сохраните last_attentions во внешнюю переменную, чтобы потом отдельно заняться визуализацией. Визуализируйте attentions как heatmap'ы (например в searborn). У вас будет attention матрица для каждого слоя и для каждого head в модели. Для каждой нужно будет сделать свой хитмап.\n",
    "Должно получиться что-то похожее на (только несколько для каждой эпохи)\n",
    "![](https://www.kdnuggets.com/wp-content/uploads/How_to_Visualize_Model_Internals_and_Attention_in_Hugging_Face_Transformers_3.png)"
   ]
  },
  {
   "cell_type": "code",
   "execution_count": 20,
   "id": "17823771",
   "metadata": {},
   "outputs": [],
   "source": [
    "import pandas as pd\n",
    "from rusenttokenize import ru_sent_tokenize\n",
    "\n",
    "import pathlib"
   ]
  },
  {
   "cell_type": "code",
   "execution_count": 24,
   "id": "d51f8e13",
   "metadata": {},
   "outputs": [],
   "source": [
    "# Почему-то сентенизация с порога начинает поливать ворнингами:\n",
    "# WARNING:root:Something went wrong while tokenizing\n",
    "# WARNING:root:Something went wrong while tokenizing\n",
    "# WARNING:root:Something went wrong while tokenizing\n",
    "\n",
    "# Что ж, лучший вариант решения проблемы -- это ее игнорирование.\n",
    "import logging\n",
    "logging.getLogger().setLevel(logging.CRITICAL)"
   ]
  },
  {
   "cell_type": "code",
   "execution_count": null,
   "id": "6d1dd0a2",
   "metadata": {},
   "outputs": [
    {
     "data": {
      "text/plain": [
       "False"
      ]
     },
     "execution_count": 23,
     "metadata": {},
     "output_type": "execute_result"
    }
   ],
   "source": [
    "corpuspath = pathlib.Path().cwd() / \"data\" / \"corpus.txt\"\n",
    "\n",
    "if corpuspath.exists():\n",
    "    with open(corpuspath) as file:\n",
    "        sentences = file.read().splitlines()\n",
    "\n",
    "else:\n",
    "    data = pd.read_csv('./data/lenta_40k.csv.zip')\n",
    "\n",
    "    sentences = []\n",
    "    for text in data.text.values:\n",
    "        sentences.extend(ru_sent_tokenize(text))\n",
    "    print(len(sentences))\n",
    "\n",
    "    f = open('corpus.txt', 'w')\n",
    "    for sent in sentences:\n",
    "        f.write(sent + '\\n')\n",
    "    f.close()"
   ]
  },
  {
   "cell_type": "code",
   "execution_count": 19,
   "id": "a423ffa0",
   "metadata": {},
   "outputs": [
    {
     "data": {
      "text/plain": [
       "489727"
      ]
     },
     "execution_count": 19,
     "metadata": {},
     "output_type": "execute_result"
    }
   ],
   "source": [
    "sentences = []\n",
    "for text in data.text.values:\n",
    "    sentences.extend(ru_sent_tokenize(text))\n",
    "len(sentences)"
   ]
  },
  {
   "cell_type": "code",
   "execution_count": null,
   "id": "0dd9ae93",
   "metadata": {},
   "outputs": [
    {
     "data": {
      "text/plain": [
       "'Россия должна сотрудничать с Всемирным антидопинговым агентством (WADA), чтобы ее легкоатлеты смогли выступить на Олимпийских играх 2016 года в Рио-де-Жанейро.'"
      ]
     },
     "execution_count": 9,
     "metadata": {},
     "output_type": "execute_result"
    }
   ],
   "source": [
    "f = open('corpus.txt', 'w')\n",
    "for sent in sentences:\n",
    "    f.write(sent + '\\n')\n",
    "f.close()"
   ]
  },
  {
   "cell_type": "code",
   "execution_count": null,
   "id": "ebecba32",
   "metadata": {},
   "outputs": [],
   "source": []
  }
 ],
 "metadata": {
  "kernelspec": {
   "display_name": ".venv",
   "language": "python",
   "name": "python3"
  },
  "language_info": {
   "codemirror_mode": {
    "name": "ipython",
    "version": 3
   },
   "file_extension": ".py",
   "mimetype": "text/x-python",
   "name": "python",
   "nbconvert_exporter": "python",
   "pygments_lexer": "ipython3",
   "version": "3.10.12"
  }
 },
 "nbformat": 4,
 "nbformat_minor": 5
}
