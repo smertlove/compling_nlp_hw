{
 "cells": [
  {
   "cell_type": "markdown",
   "id": "1dba7c0d",
   "metadata": {},
   "source": [
    "# Домашнее задание № 9"
   ]
  },
  {
   "cell_type": "markdown",
   "id": "c0fb51a4",
   "metadata": {},
   "source": [
    "### Задание 1 (10 баллов).\n",
    "Это задание основано на этой тетрадке - https://github.com/mannefedov/compling_nlp_hse_course/blob/master/notebooks/transfer_learning_hg/Fine_tunining_pretrained_LMs_torch.ipynb\n",
    "\n",
    "На датасете lenta_sample.ru  дообучите две модели - modernbert-base (из семинара) и rumodernbert-base (https://huggingface.co/deepvk/RuModernBERT-base). Оцените разницу в качестве сравнив поклассовые метрики (classification_report)\n",
    "\n",
    "Для обоих моделей качество должно быть >0.10 по f-мере (прогоните несколько экспериментов если у вас получаются нули, изменяя параметры).\n",
    "Также для обоих моделей попробуйте дообучать модель и целиком и дообучать только последний слой. \n",
    "Для RuModernBERT дополнительно сравните модель, которая использует первый вектор (cls токен, как в семинаре), так и усредненный вектор по всем hidden_state, который выдает bert. \n",
    "\n",
    "\n"
   ]
  },
  {
   "cell_type": "code",
   "execution_count": 1,
   "id": "9deb7969",
   "metadata": {},
   "outputs": [
    {
     "name": "stderr",
     "output_type": "stream",
     "text": [
      "/home/smertlove/sandbox/hse/nlp_hw/.venv/lib/python3.10/site-packages/tqdm/auto.py:21: TqdmWarning: IProgress not found. Please update jupyter and ipywidgets. See https://ipywidgets.readthedocs.io/en/stable/user_install.html\n",
      "  from .autonotebook import tqdm as notebook_tqdm\n"
     ]
    }
   ],
   "source": [
    "import pandas as pd\n",
    "from transformers import AutoModel\n",
    "from transformers import AutoTokenizer\n",
    "import torch\n",
    "\n",
    "from sklearn.metrics import classification_report\n",
    "from sklearn.model_selection import train_test_split\n",
    "\n",
    "import numpy as np\n",
    "from tqdm import tqdm\n",
    "\n",
    "from string import punctuation"
   ]
  },
  {
   "cell_type": "code",
   "execution_count": 2,
   "id": "3165e936",
   "metadata": {},
   "outputs": [],
   "source": [
    "import matplotlib.pyplot as plt\n",
    "%matplotlib inline"
   ]
  },
  {
   "cell_type": "code",
   "execution_count": 3,
   "id": "2444e3fe",
   "metadata": {},
   "outputs": [],
   "source": [
    "data = pd.read_csv('./data/lenta_sample.csv')\n",
    "data.dropna(subset=['topic', 'text'], inplace=True)"
   ]
  },
  {
   "cell_type": "code",
   "execution_count": 4,
   "id": "d11d2f1f",
   "metadata": {},
   "outputs": [
    {
     "data": {
      "text/html": [
       "<div>\n",
       "<style scoped>\n",
       "    .dataframe tbody tr th:only-of-type {\n",
       "        vertical-align: middle;\n",
       "    }\n",
       "\n",
       "    .dataframe tbody tr th {\n",
       "        vertical-align: top;\n",
       "    }\n",
       "\n",
       "    .dataframe thead th {\n",
       "        text-align: right;\n",
       "    }\n",
       "</style>\n",
       "<table border=\"1\" class=\"dataframe\">\n",
       "  <thead>\n",
       "    <tr style=\"text-align: right;\">\n",
       "      <th></th>\n",
       "      <th>url</th>\n",
       "      <th>title</th>\n",
       "      <th>text</th>\n",
       "      <th>topic</th>\n",
       "      <th>tags</th>\n",
       "      <th>date</th>\n",
       "    </tr>\n",
       "  </thead>\n",
       "  <tbody>\n",
       "    <tr>\n",
       "      <th>0</th>\n",
       "      <td>https://lenta.ru/news/2010/12/16/passports/</td>\n",
       "      <td>Московская милиция ужесточила паспортный режим</td>\n",
       "      <td>В Москве после серии массовых беспорядков на н...</td>\n",
       "      <td>Россия</td>\n",
       "      <td>Все</td>\n",
       "      <td>2010/12/16</td>\n",
       "    </tr>\n",
       "    <tr>\n",
       "      <th>1</th>\n",
       "      <td>https://lenta.ru/news/2014/05/19/student/</td>\n",
       "      <td>Московского студента ограбили на 6 миллионов р...</td>\n",
       "      <td>Неизвестные вынесли из квартиры московского ст...</td>\n",
       "      <td>Россия</td>\n",
       "      <td>NaN</td>\n",
       "      <td>2014/05/19</td>\n",
       "    </tr>\n",
       "    <tr>\n",
       "      <th>2</th>\n",
       "      <td>https://lenta.ru/news/2008/09/27/catch/</td>\n",
       "      <td>В Ставропольском крае обезврежены боевики</td>\n",
       "      <td>В Ставропольском крае задержаны боевики, котор...</td>\n",
       "      <td>Россия</td>\n",
       "      <td>Все</td>\n",
       "      <td>2008/09/27</td>\n",
       "    </tr>\n",
       "  </tbody>\n",
       "</table>\n",
       "</div>"
      ],
      "text/plain": [
       "                                           url  \\\n",
       "0  https://lenta.ru/news/2010/12/16/passports/   \n",
       "1    https://lenta.ru/news/2014/05/19/student/   \n",
       "2      https://lenta.ru/news/2008/09/27/catch/   \n",
       "\n",
       "                                               title  \\\n",
       "0     Московская милиция ужесточила паспортный режим   \n",
       "1  Московского студента ограбили на 6 миллионов р...   \n",
       "2          В Ставропольском крае обезврежены боевики   \n",
       "\n",
       "                                                text   topic tags        date  \n",
       "0  В Москве после серии массовых беспорядков на н...  Россия  Все  2010/12/16  \n",
       "1  Неизвестные вынесли из квартиры московского ст...  Россия  NaN  2014/05/19  \n",
       "2  В Ставропольском крае задержаны боевики, котор...  Россия  Все  2008/09/27  "
      ]
     },
     "execution_count": 4,
     "metadata": {},
     "output_type": "execute_result"
    }
   ],
   "source": [
    "data.head(3)"
   ]
  },
  {
   "cell_type": "code",
   "execution_count": 5,
   "id": "a7ffa9a4",
   "metadata": {},
   "outputs": [
    {
     "data": {
      "text/plain": [
       "topic\n",
       "Из жизни             55\n",
       "Наука и техника      54\n",
       "Бывший СССР          54\n",
       "Культура             53\n",
       "Ценности             45\n",
       "Дом                  45\n",
       "Бизнес               44\n",
       "Интернет и СМИ       44\n",
       "Силовые структуры    40\n",
       "Спорт                39\n",
       "Россия               32\n",
       "Экономика            32\n",
       "Мир                  27\n",
       "69-я параллель       13\n",
       "Легпром              13\n",
       "Библиотека           10\n",
       "Крым                  7\n",
       "Name: count, dtype: int64"
      ]
     },
     "execution_count": 5,
     "metadata": {},
     "output_type": "execute_result"
    }
   ],
   "source": [
    "data.topic.value_counts()"
   ]
  },
  {
   "cell_type": "code",
   "execution_count": 6,
   "id": "70736d38",
   "metadata": {},
   "outputs": [
    {
     "data": {
      "text/plain": [
       "(607, 6)"
      ]
     },
     "execution_count": 6,
     "metadata": {},
     "output_type": "execute_result"
    }
   ],
   "source": [
    "data.shape"
   ]
  },
  {
   "cell_type": "code",
   "execution_count": 7,
   "id": "83b262d0",
   "metadata": {},
   "outputs": [],
   "source": [
    "class Dataset(torch.utils.data.Dataset):\n",
    "\n",
    "    def __init__(self, tokenizer, MAX_LEN, texts, targets):\n",
    "        \n",
    "        self.tokenizer = tokenizer\n",
    "        self.texts = [torch.LongTensor(tokenizer.encode(t)[:MAX_LEN]) for t in texts]\n",
    "        self.texts = torch.nn.utils.rnn.pad_sequence(self.texts, batch_first=True,\n",
    "                                                     padding_value=self.tokenizer.pad_token_id)\n",
    "        \n",
    "        self.MAX_LEN = MAX_LEN\n",
    "        self.length = len(texts)\n",
    "        \n",
    "        self.target = torch.LongTensor(targets)\n",
    "\n",
    "    def __len__(self):\n",
    "        return self.length\n",
    "\n",
    "    def __getitem__(self, index):\n",
    "        ids = self.texts[index]\n",
    "        y = self.target[index]\n",
    "\n",
    "        return ids, y\n",
    "    \n",
    "    def preprocess(self, text):\n",
    "        tokens = text.lower().split()\n",
    "        tokens = [token.strip(punctuation) for token in tokens]\n",
    "        tokens = [token for token in tokens if token]\n",
    "        return tokens"
   ]
  },
  {
   "cell_type": "code",
   "execution_count": 8,
   "id": "7165673f",
   "metadata": {},
   "outputs": [],
   "source": [
    "MAX_LEN = 512"
   ]
  },
  {
   "cell_type": "code",
   "execution_count": 11,
   "id": "169ec1d1",
   "metadata": {},
   "outputs": [],
   "source": [
    "\n",
    "texts = data.text.values\n",
    "id2label = {i:l for i,l in enumerate(set(data[\"topic\"]))}\n",
    "label2id = {l:i for i,l in id2label.items()}\n",
    "targets = [label2id[l] for l in data[\"topic\"]]"
   ]
  },
  {
   "cell_type": "code",
   "execution_count": 12,
   "id": "c0c90542",
   "metadata": {},
   "outputs": [],
   "source": [
    "train_texts, valid_texts, train_targets, valid_targets = train_test_split(texts, targets, test_size=0.05)"
   ]
  },
  {
   "cell_type": "markdown",
   "id": "d4e3ecc8",
   "metadata": {},
   "source": [
    "### ModernBERT c заморозкой"
   ]
  },
  {
   "cell_type": "code",
   "execution_count": 13,
   "id": "41909d38",
   "metadata": {},
   "outputs": [],
   "source": [
    "import torch\n",
    "import torch.nn as nn\n",
    "import torch.nn.functional as F\n",
    "import torch.optim as optim\n",
    "import torch.utils.data\n",
    "\n",
    "from sklearn.metrics import f1_score"
   ]
  },
  {
   "cell_type": "code",
   "execution_count": 14,
   "id": "0e963676",
   "metadata": {},
   "outputs": [],
   "source": [
    "import torch.nn as nn\n",
    "\n",
    "class CLF(nn.Module):\n",
    "    \n",
    "    def __init__(self, tokenizer, model, num_classes):\n",
    "        super().__init__()          \n",
    "        self.tokenizer = tokenizer # токенизатор\n",
    "        self.pretrained_model = model # предобученная модель\n",
    "        #\n",
    "        self.drop = nn.Dropout(0.3) # добавим дропаут чтобы не переобучалось\n",
    "        self.fc = nn.Linear(768, num_classes) \n",
    "        self.act = nn.LogSoftmax(1) \n",
    "        \n",
    "    def forward(self, texts):\n",
    "        \n",
    "        mask = (texts != self.tokenizer.pad_token_id).long()\n",
    "        \n",
    "        # прогоняем через BERT\n",
    "        hidden = self.pretrained_model(texts, attention_mask=mask)[0]\n",
    "\n",
    "        # берем самое первое состояние и применяем к нему линейный слой и активацию\n",
    "        dense_outputs=self.fc(self.drop(hidden[:,0] ))\n",
    "        outputs=self.act(dense_outputs)\n",
    "        \n",
    "        return outputs"
   ]
  },
  {
   "cell_type": "code",
   "execution_count": 39,
   "id": "b8e40ea2",
   "metadata": {},
   "outputs": [],
   "source": [
    "model_id = \"answerdotai/ModernBERT-base\"\n",
    "tokenizer = AutoTokenizer.from_pretrained(model_id)\n",
    "model_bert = AutoModel.from_pretrained(model_id)\n",
    "\n",
    "for param in model_bert.parameters():\n",
    "    param.requires_grad = False"
   ]
  },
  {
   "cell_type": "code",
   "execution_count": null,
   "id": "95b4558e",
   "metadata": {},
   "outputs": [],
   "source": [
    "training_set = Dataset(tokenizer, MAX_LEN, train_texts, train_targets)\n",
    "training_generator = torch.utils.data.DataLoader(training_set, batch_size=16, shuffle=True, )\n",
    "valid_set = Dataset(tokenizer, MAX_LEN, valid_texts, valid_targets)\n",
    "valid_generator = torch.utils.data.DataLoader(valid_set, batch_size=16, shuffle=True)"
   ]
  },
  {
   "cell_type": "code",
   "execution_count": 42,
   "id": "f15cc6a8",
   "metadata": {},
   "outputs": [],
   "source": [
    "device = torch.device('cuda' if torch.cuda.is_available() else 'cpu')  \n",
    "model = CLF(tokenizer, model_bert, len(label2id))\n",
    "optimizer = optim.Adam(model.parameters(), lr=2e-4)\n",
    "criterion = nn.NLLLoss() \n",
    "model = model.to(device)\n",
    "criterion = criterion.to(device)"
   ]
  },
  {
   "cell_type": "code",
   "execution_count": 43,
   "id": "c12b48ea",
   "metadata": {},
   "outputs": [
    {
     "name": "stdout",
     "output_type": "stream",
     "text": [
      "Percentage of trainable params:\n",
      "0.0000877222\n"
     ]
    }
   ],
   "source": [
    "print(\"Percentage of trainable params:\")\n",
    "print('{0:.10f}'.format(sum(p.numel() for p in model.parameters() if p.requires_grad)/sum(p.numel() for p in model.parameters())))"
   ]
  },
  {
   "cell_type": "code",
   "execution_count": 15,
   "id": "e3bf8214",
   "metadata": {},
   "outputs": [],
   "source": [
    "def train(model, iterator, optimizer, criterion, print_every=1000):\n",
    "    \n",
    "    epoch_loss = []\n",
    "    epoch_f1 = []\n",
    "    \n",
    "    model.train()\n",
    "\n",
    "    for i, (texts, ys) in enumerate(iterator):\n",
    "\n",
    "        optimizer.zero_grad()   \n",
    "        predictions = model(texts.to(device)).squeeze()  \n",
    "        loss = criterion(predictions, ys.to(device))        \n",
    "\n",
    "        loss.backward()\n",
    "        optimizer.step()     \n",
    "        preds = predictions.detach().to('cpu').numpy().argmax(1).tolist()\n",
    "        y_true = ys.tolist()\n",
    "        \n",
    "        epoch_loss.append(loss.item())\n",
    "        epoch_f1.append(f1_score(y_true, preds, average=\"micro\"))\n",
    "        \n",
    "        if not (i+1) % print_every:\n",
    "            print(f'Loss: {np.mean(epoch_loss)}; F1 measure: {np.mean(epoch_f1)}')\n",
    "        \n",
    "    return np.mean(epoch_f1)\n",
    "\n",
    "\n",
    "def evaluate(model, iterator, criterion):\n",
    "    \n",
    "    epoch_loss = []\n",
    "    epoch_f1 = []\n",
    "    \n",
    "    model.eval()  \n",
    "    with torch.no_grad():\n",
    "        for texts, ys in iterator:   \n",
    "\n",
    "            predictions = model(texts.to(device)).squeeze()  \n",
    "            loss = criterion(predictions, ys.to(device))        \n",
    "            preds = predictions.detach().to('cpu').numpy().argmax(1).tolist()\n",
    "            y_true = ys.tolist()\n",
    "            \n",
    "\n",
    "            epoch_loss.append(loss.item())  \n",
    "            epoch_f1.append(f1_score(y_true, preds, average=\"micro\"))\n",
    "            \n",
    "    return np.mean(epoch_f1)# / len(iterator)"
   ]
  },
  {
   "cell_type": "code",
   "execution_count": 16,
   "id": "3a28af27",
   "metadata": {},
   "outputs": [],
   "source": [
    "def predict(model, iterator):\n",
    "    \n",
    "    preds = []\n",
    "    \n",
    "    model.eval()  \n",
    "    with torch.no_grad():\n",
    "        for texts, ys in iterator:   \n",
    "            predictions = model(texts.to(device)).squeeze()        \n",
    "            ys = predictions.detach().to('cpu').numpy().argmax(1).tolist()\n",
    "            preds.extend(ys)\n",
    "            \n",
    "    return preds"
   ]
  },
  {
   "cell_type": "code",
   "execution_count": 45,
   "id": "ea064b70",
   "metadata": {},
   "outputs": [
    {
     "name": "stdout",
     "output_type": "stream",
     "text": [
      "0\n"
     ]
    },
    {
     "name": "stderr",
     "output_type": "stream",
     "text": [
      "/home/smertlove/sandbox/hse/nlp_hw/.venv/lib/python3.10/site-packages/torch/_inductor/compile_fx.py:167: UserWarning: TensorFloat32 tensor cores for float32 matrix multiplication available but not enabled. Consider setting `torch.set_float32_matmul_precision('high')` for better performance.\n",
      "  warnings.warn(\n"
     ]
    },
    {
     "name": "stdout",
     "output_type": "stream",
     "text": [
      "Eval -  0.12708333333333333\n",
      "1\n",
      "Eval -  0.16666666666666666\n",
      "2\n",
      "Eval -  0.1625\n",
      "3\n",
      "Eval -  0.32291666666666663\n",
      "4\n",
      "Eval -  0.25416666666666665\n",
      "5\n",
      "Eval -  0.29166666666666663\n",
      "6\n",
      "Eval -  0.2895833333333333\n",
      "7\n",
      "Eval -  0.3208333333333333\n",
      "8\n",
      "Eval -  0.325\n",
      "9\n",
      "Eval -  0.31875\n",
      "10\n",
      "Eval -  0.22916666666666666\n",
      "11\n",
      "Eval -  0.325\n",
      "12\n",
      "Eval -  0.29375\n",
      "13\n",
      "Eval -  0.325\n",
      "14\n",
      "Eval -  0.2895833333333333\n",
      "15\n",
      "Eval -  0.25625\n",
      "16\n",
      "Eval -  0.35625\n",
      "17\n",
      "Eval -  0.3208333333333333\n",
      "18\n",
      "Eval -  0.2625\n",
      "19\n",
      "Eval -  0.25625\n",
      "20\n",
      "Eval -  0.22708333333333333\n",
      "21\n",
      "Eval -  0.29166666666666663\n",
      "22\n",
      "Eval -  0.2895833333333333\n",
      "23\n",
      "Eval -  0.25625\n",
      "24\n",
      "Eval -  0.2895833333333333\n",
      "25\n",
      "Eval -  0.3208333333333333\n",
      "26\n",
      "Eval -  0.2583333333333333\n",
      "27\n",
      "Eval -  0.26041666666666663\n",
      "28\n",
      "Eval -  0.225\n",
      "29\n",
      "Eval -  0.3208333333333333\n",
      "30\n",
      "Eval -  0.2875\n",
      "31\n",
      "Eval -  0.28541666666666665\n",
      "32\n",
      "Eval -  0.32291666666666663\n",
      "33\n",
      "Eval -  0.2583333333333333\n",
      "34\n",
      "Eval -  0.2833333333333333\n",
      "35\n",
      "Eval -  0.2895833333333333\n",
      "36\n",
      "Eval -  0.2625\n",
      "37\n",
      "Eval -  0.325\n",
      "38\n",
      "Eval -  0.2583333333333333\n",
      "39\n",
      "Eval -  0.26041666666666663\n"
     ]
    }
   ],
   "source": [
    "f1s = []\n",
    "f1s_eval = []\n",
    "\n",
    "for i in range(40):\n",
    "    print(i)\n",
    "    f1s.append(train(model, training_generator, optimizer, criterion, 2000))\n",
    "    evl = evaluate(model, valid_generator, criterion)\n",
    "    print('Eval - ', evl)\n",
    "    f1s_eval.append(evl)"
   ]
  },
  {
   "cell_type": "code",
   "execution_count": 47,
   "id": "1bf56e3a",
   "metadata": {},
   "outputs": [
    {
     "data": {
      "image/png": "[encoded data removed]",
      "text/plain": [
       "<Figure size 640x480 with 1 Axes>"
      ]
     },
     "metadata": {},
     "output_type": "display_data"
    }
   ],
   "source": [
    "\n",
    "plt.plot(f1s)\n",
    "plt.plot(f1s_eval)\n",
    "plt.title('model f1 micro')\n",
    "plt.ylabel('f1')\n",
    "plt.xlabel('epoch')\n",
    "plt.legend(['train', 'val'], loc='upper left')\n",
    "plt.show()"
   ]
  },
  {
   "cell_type": "code",
   "execution_count": 49,
   "id": "e3d7c4fc",
   "metadata": {},
   "outputs": [],
   "source": [
    "valid_generator = torch.utils.data.DataLoader(valid_set, batch_size=32, shuffle=False)\n",
    "preds = predict(model, valid_generator)"
   ]
  },
  {
   "cell_type": "code",
   "execution_count": 51,
   "id": "31c13bdc",
   "metadata": {},
   "outputs": [
    {
     "data": {
      "text/plain": [
       "{'Спорт': 0,\n",
       " 'Бывший СССР': 1,\n",
       " 'Экономика': 2,\n",
       " 'Бизнес': 3,\n",
       " 'Россия': 4,\n",
       " 'Культура': 5,\n",
       " 'Мир': 6,\n",
       " 'Крым': 7,\n",
       " 'Из жизни': 8,\n",
       " 'Силовые структуры': 9,\n",
       " 'Ценности': 10,\n",
       " '69-я параллель': 11,\n",
       " 'Библиотека': 12,\n",
       " 'Легпром': 13,\n",
       " 'Дом': 14,\n",
       " 'Наука и техника': 15,\n",
       " 'Интернет и СМИ': 16}"
      ]
     },
     "execution_count": 51,
     "metadata": {},
     "output_type": "execute_result"
    }
   ],
   "source": [
    "label2id"
   ]
  },
  {
   "cell_type": "code",
   "execution_count": 54,
   "id": "1e295ae4",
   "metadata": {},
   "outputs": [
    {
     "data": {
      "text/plain": [
       "17"
      ]
     },
     "execution_count": 54,
     "metadata": {},
     "output_type": "execute_result"
    }
   ],
   "source": [
    "len(label2id.keys())"
   ]
  },
  {
   "cell_type": "code",
   "execution_count": 58,
   "id": "2e75d6d7",
   "metadata": {},
   "outputs": [
    {
     "name": "stdout",
     "output_type": "stream",
     "text": [
      "              precision    recall  f1-score   support\n",
      "\n",
      "           0       0.00      0.00      0.00         1\n",
      "           1       0.00      0.00      0.00         0\n",
      "           2       0.67      0.67      0.67         3\n",
      "           3       0.25      0.33      0.29         3\n",
      "           4       0.00      0.00      0.00         2\n",
      "           5       0.00      0.00      0.00         1\n",
      "           6       0.00      0.00      0.00         2\n",
      "           7       0.00      0.00      0.00         0\n",
      "           8       0.17      0.33      0.22         3\n",
      "           9       0.67      0.33      0.44         6\n",
      "          11       0.00      0.00      0.00         1\n",
      "          12       0.00      0.00      0.00         1\n",
      "          13       0.00      0.00      0.00         1\n",
      "          14       0.67      0.40      0.50         5\n",
      "          15       0.00      0.00      0.00         1\n",
      "          16       0.00      0.00      0.00         1\n",
      "\n",
      "    accuracy                           0.26        31\n",
      "   macro avg       0.15      0.13      0.13        31\n",
      "weighted avg       0.34      0.26      0.28        31\n",
      "\n"
     ]
    },
    {
     "name": "stderr",
     "output_type": "stream",
     "text": [
      "/home/smertlove/sandbox/hse/nlp_hw/.venv/lib/python3.10/site-packages/sklearn/metrics/_classification.py:1531: UndefinedMetricWarning: Precision is ill-defined and being set to 0.0 in labels with no predicted samples. Use `zero_division` parameter to control this behavior.\n",
      "  _warn_prf(average, modifier, f\"{metric.capitalize()} is\", len(result))\n",
      "/home/smertlove/sandbox/hse/nlp_hw/.venv/lib/python3.10/site-packages/sklearn/metrics/_classification.py:1531: UndefinedMetricWarning: Recall is ill-defined and being set to 0.0 in labels with no true samples. Use `zero_division` parameter to control this behavior.\n",
      "  _warn_prf(average, modifier, f\"{metric.capitalize()} is\", len(result))\n",
      "/home/smertlove/sandbox/hse/nlp_hw/.venv/lib/python3.10/site-packages/sklearn/metrics/_classification.py:1531: UndefinedMetricWarning: Precision is ill-defined and being set to 0.0 in labels with no predicted samples. Use `zero_division` parameter to control this behavior.\n",
      "  _warn_prf(average, modifier, f\"{metric.capitalize()} is\", len(result))\n",
      "/home/smertlove/sandbox/hse/nlp_hw/.venv/lib/python3.10/site-packages/sklearn/metrics/_classification.py:1531: UndefinedMetricWarning: Recall is ill-defined and being set to 0.0 in labels with no true samples. Use `zero_division` parameter to control this behavior.\n",
      "  _warn_prf(average, modifier, f\"{metric.capitalize()} is\", len(result))\n",
      "/home/smertlove/sandbox/hse/nlp_hw/.venv/lib/python3.10/site-packages/sklearn/metrics/_classification.py:1531: UndefinedMetricWarning: Precision is ill-defined and being set to 0.0 in labels with no predicted samples. Use `zero_division` parameter to control this behavior.\n",
      "  _warn_prf(average, modifier, f\"{metric.capitalize()} is\", len(result))\n",
      "/home/smertlove/sandbox/hse/nlp_hw/.venv/lib/python3.10/site-packages/sklearn/metrics/_classification.py:1531: UndefinedMetricWarning: Recall is ill-defined and being set to 0.0 in labels with no true samples. Use `zero_division` parameter to control this behavior.\n",
      "  _warn_prf(average, modifier, f\"{metric.capitalize()} is\", len(result))\n"
     ]
    }
   ],
   "source": [
    "\n",
    "print(classification_report(valid_targets, preds))"
   ]
  },
  {
   "cell_type": "markdown",
   "id": "7c097f58",
   "metadata": {},
   "source": [
    "### ModernBERT без заморозки"
   ]
  },
  {
   "cell_type": "code",
   "execution_count": 12,
   "id": "5979f39d",
   "metadata": {},
   "outputs": [],
   "source": [
    "\n",
    "model_id = \"answerdotai/ModernBERT-base\"\n",
    "tokenizer = AutoTokenizer.from_pretrained(model_id)\n",
    "model_bert = AutoModel.from_pretrained(model_id)"
   ]
  },
  {
   "cell_type": "code",
   "execution_count": 13,
   "id": "6acdc495",
   "metadata": {},
   "outputs": [],
   "source": [
    "device = torch.device('cuda' if torch.cuda.is_available() else 'cpu')  \n",
    "model = CLF(tokenizer, model_bert, len(label2id))\n",
    "optimizer = optim.Adam(model.parameters(), lr=2e-4)\n",
    "criterion = nn.NLLLoss() \n",
    "model = model.to(device)\n",
    "criterion = criterion.to(device)"
   ]
  },
  {
   "cell_type": "code",
   "execution_count": 14,
   "id": "d714eaa2",
   "metadata": {},
   "outputs": [
    {
     "name": "stdout",
     "output_type": "stream",
     "text": [
      "Percentage of trainable params:\n",
      "1.0000000000\n"
     ]
    }
   ],
   "source": [
    "print(\"Percentage of trainable params:\")\n",
    "print('{0:.10f}'.format(sum(p.numel() for p in model.parameters() if p.requires_grad)/sum(p.numel() for p in model.parameters())))"
   ]
  },
  {
   "cell_type": "code",
   "execution_count": 19,
   "id": "e667c9b3",
   "metadata": {},
   "outputs": [],
   "source": [
    "training_set = Dataset(tokenizer, MAX_LEN, train_texts, train_targets)\n",
    "training_generator = torch.utils.data.DataLoader(training_set, batch_size=8, shuffle=True, )  # уменьшил батчсайз тк не влезал (cuda out of memory)\n",
    "valid_set = Dataset(tokenizer, MAX_LEN, valid_texts, valid_targets)\n",
    "valid_generator = torch.utils.data.DataLoader(valid_set, batch_size=8, shuffle=True)  # уменьшил батчсайз тк не влезал (cuda out of memory)"
   ]
  },
  {
   "cell_type": "code",
   "execution_count": 20,
   "id": "7bca0510",
   "metadata": {},
   "outputs": [
    {
     "name": "stdout",
     "output_type": "stream",
     "text": [
      "0\n",
      "Eval -  0.09821428571428571\n",
      "1\n",
      "Eval -  0.10267857142857142\n",
      "2\n",
      "Eval -  0.03125\n",
      "3\n",
      "Eval -  0.09821428571428571\n",
      "4\n",
      "Eval -  0.03571428571428571\n",
      "5\n",
      "Eval -  0.13392857142857142\n",
      "6\n",
      "Eval -  0.15625\n",
      "7\n",
      "Eval -  0.16517857142857142\n",
      "8\n",
      "Eval -  0.32589285714285715\n",
      "9\n",
      "Eval -  0.1607142857142857\n",
      "10\n",
      "Eval -  0.26339285714285715\n",
      "11\n",
      "Eval -  0.22767857142857142\n",
      "12\n",
      "Eval -  0.29464285714285715\n",
      "13\n",
      "Eval -  0.19642857142857142\n",
      "14\n",
      "Eval -  0.2232142857142857\n",
      "15\n",
      "Eval -  0.2589285714285714\n",
      "16\n",
      "Eval -  0.1875\n",
      "17\n",
      "Eval -  0.2232142857142857\n",
      "18\n",
      "Eval -  0.2901785714285714\n",
      "19\n",
      "Eval -  0.32589285714285715\n",
      "20\n",
      "Eval -  0.2857142857142857\n",
      "21\n",
      "Eval -  0.22767857142857142\n",
      "22\n",
      "Eval -  0.2589285714285714\n",
      "23\n",
      "Eval -  0.2589285714285714\n",
      "24\n",
      "Eval -  0.2589285714285714\n",
      "25\n",
      "Eval -  0.2589285714285714\n",
      "26\n",
      "Eval -  0.2544642857142857\n",
      "27\n",
      "Eval -  0.2544642857142857\n",
      "28\n",
      "Eval -  0.2589285714285714\n",
      "29\n",
      "Eval -  0.2589285714285714\n"
     ]
    }
   ],
   "source": [
    "f1s = []\n",
    "f1s_eval = []\n",
    "\n",
    "for i in range(30):\n",
    "    print(i)\n",
    "    f1s.append(train(model, training_generator, optimizer, criterion, 2000))\n",
    "    evl = evaluate(model, valid_generator, criterion)\n",
    "    print('Eval - ', evl)\n",
    "    f1s_eval.append(evl)"
   ]
  },
  {
   "cell_type": "code",
   "execution_count": 25,
   "id": "e15e528a",
   "metadata": {},
   "outputs": [
    {
     "data": {
      "image/png": "[encoded data removed]",
      "text/plain": [
       "<Figure size 640x480 with 1 Axes>"
      ]
     },
     "metadata": {},
     "output_type": "display_data"
    }
   ],
   "source": [
    "\n",
    "plt.plot(f1s)\n",
    "plt.plot(f1s_eval)\n",
    "plt.title('model f1 micro')\n",
    "plt.ylabel('f1')\n",
    "plt.xlabel('epoch')\n",
    "plt.legend(['train', 'val'], loc='upper left')\n",
    "plt.show()"
   ]
  },
  {
   "cell_type": "code",
   "execution_count": 22,
   "id": "5ebbe57f",
   "metadata": {},
   "outputs": [],
   "source": [
    "valid_generator = torch.utils.data.DataLoader(valid_set, batch_size=32, shuffle=False)\n",
    "preds = predict(model, valid_generator)"
   ]
  },
  {
   "cell_type": "code",
   "execution_count": 23,
   "id": "3b6a0d86",
   "metadata": {},
   "outputs": [
    {
     "name": "stdout",
     "output_type": "stream",
     "text": [
      "              precision    recall  f1-score   support\n",
      "\n",
      "           0       0.50      0.50      0.50         2\n",
      "           1       1.00      0.40      0.57         5\n",
      "           2       0.75      0.75      0.75         4\n",
      "           3       0.33      0.33      0.33         3\n",
      "           4       0.00      0.00      0.00         1\n",
      "           5       0.00      0.00      0.00         3\n",
      "           6       0.00      0.00      0.00         0\n",
      "           7       0.00      0.00      0.00         2\n",
      "           8       0.00      0.00      0.00         0\n",
      "           9       0.00      0.00      0.00         2\n",
      "          10       0.00      0.00      0.00         1\n",
      "          11       0.00      0.00      0.00         0\n",
      "          12       0.00      0.00      0.00         2\n",
      "          13       0.00      0.00      0.00         3\n",
      "          14       0.20      0.50      0.29         2\n",
      "          15       0.00      0.00      0.00         1\n",
      "\n",
      "    accuracy                           0.26        31\n",
      "   macro avg       0.17      0.16      0.15        31\n",
      "weighted avg       0.34      0.26      0.27        31\n",
      "\n"
     ]
    },
    {
     "name": "stderr",
     "output_type": "stream",
     "text": [
      "/home/smertlove/sandbox/hse/nlp_hw/.venv/lib/python3.10/site-packages/sklearn/metrics/_classification.py:1531: UndefinedMetricWarning: Precision is ill-defined and being set to 0.0 in labels with no predicted samples. Use `zero_division` parameter to control this behavior.\n",
      "  _warn_prf(average, modifier, f\"{metric.capitalize()} is\", len(result))\n",
      "/home/smertlove/sandbox/hse/nlp_hw/.venv/lib/python3.10/site-packages/sklearn/metrics/_classification.py:1531: UndefinedMetricWarning: Recall is ill-defined and being set to 0.0 in labels with no true samples. Use `zero_division` parameter to control this behavior.\n",
      "  _warn_prf(average, modifier, f\"{metric.capitalize()} is\", len(result))\n",
      "/home/smertlove/sandbox/hse/nlp_hw/.venv/lib/python3.10/site-packages/sklearn/metrics/_classification.py:1531: UndefinedMetricWarning: Precision is ill-defined and being set to 0.0 in labels with no predicted samples. Use `zero_division` parameter to control this behavior.\n",
      "  _warn_prf(average, modifier, f\"{metric.capitalize()} is\", len(result))\n",
      "/home/smertlove/sandbox/hse/nlp_hw/.venv/lib/python3.10/site-packages/sklearn/metrics/_classification.py:1531: UndefinedMetricWarning: Recall is ill-defined and being set to 0.0 in labels with no true samples. Use `zero_division` parameter to control this behavior.\n",
      "  _warn_prf(average, modifier, f\"{metric.capitalize()} is\", len(result))\n",
      "/home/smertlove/sandbox/hse/nlp_hw/.venv/lib/python3.10/site-packages/sklearn/metrics/_classification.py:1531: UndefinedMetricWarning: Precision is ill-defined and being set to 0.0 in labels with no predicted samples. Use `zero_division` parameter to control this behavior.\n",
      "  _warn_prf(average, modifier, f\"{metric.capitalize()} is\", len(result))\n",
      "/home/smertlove/sandbox/hse/nlp_hw/.venv/lib/python3.10/site-packages/sklearn/metrics/_classification.py:1531: UndefinedMetricWarning: Recall is ill-defined and being set to 0.0 in labels with no true samples. Use `zero_division` parameter to control this behavior.\n",
      "  _warn_prf(average, modifier, f\"{metric.capitalize()} is\", len(result))\n"
     ]
    }
   ],
   "source": [
    "print(classification_report(valid_targets, preds))"
   ]
  },
  {
   "cell_type": "markdown",
   "id": "7a9f1906",
   "metadata": {},
   "source": [
    "### RuModernBERT с заморозкой"
   ]
  },
  {
   "cell_type": "code",
   "execution_count": 26,
   "id": "857b39da",
   "metadata": {},
   "outputs": [],
   "source": [
    "model_id = \"deepvk/RuModernBERT-base\"\n",
    "tokenizer = AutoTokenizer.from_pretrained(model_id)\n",
    "model_bert = AutoModel.from_pretrained(model_id)\n",
    "\n",
    "for param in model_bert.parameters():\n",
    "    param.requires_grad = False"
   ]
  },
  {
   "cell_type": "code",
   "execution_count": 27,
   "id": "06327d44",
   "metadata": {},
   "outputs": [],
   "source": [
    "training_set = Dataset(tokenizer, MAX_LEN, train_texts, train_targets)\n",
    "training_generator = torch.utils.data.DataLoader(training_set, batch_size=16, shuffle=True, )\n",
    "valid_set = Dataset(tokenizer, MAX_LEN, valid_texts, valid_targets)\n",
    "valid_generator = torch.utils.data.DataLoader(valid_set, batch_size=16, shuffle=True)"
   ]
  },
  {
   "cell_type": "code",
   "execution_count": 28,
   "id": "74c3eba1",
   "metadata": {},
   "outputs": [],
   "source": [
    "device = torch.device('cuda' if torch.cuda.is_available() else 'cpu')  \n",
    "model = CLF(tokenizer, model_bert, len(label2id))\n",
    "optimizer = optim.Adam(model.parameters(), lr=2e-4)\n",
    "criterion = nn.NLLLoss() \n",
    "model = model.to(device)\n",
    "criterion = criterion.to(device)"
   ]
  },
  {
   "cell_type": "code",
   "execution_count": 29,
   "id": "a43eb2b4",
   "metadata": {},
   "outputs": [
    {
     "name": "stdout",
     "output_type": "stream",
     "text": [
      "Percentage of trainable params:\n",
      "0.0000877222\n"
     ]
    }
   ],
   "source": [
    "print(\"Percentage of trainable params:\")\n",
    "print('{0:.10f}'.format(sum(p.numel() for p in model.parameters() if p.requires_grad)/sum(p.numel() for p in model.parameters())))"
   ]
  },
  {
   "cell_type": "code",
   "execution_count": 30,
   "id": "14b3f691",
   "metadata": {},
   "outputs": [
    {
     "name": "stdout",
     "output_type": "stream",
     "text": [
      "0\n",
      "Eval -  0.09375\n",
      "1\n",
      "Eval -  0.09583333333333333\n",
      "2\n",
      "Eval -  0.09583333333333333\n",
      "3\n",
      "Eval -  0.12708333333333333\n",
      "4\n",
      "Eval -  0.0625\n",
      "5\n",
      "Eval -  0.09375\n",
      "6\n",
      "Eval -  0.1\n",
      "7\n",
      "Eval -  0.09791666666666667\n",
      "8\n",
      "Eval -  0.12916666666666665\n",
      "9\n",
      "Eval -  0.1625\n",
      "10\n",
      "Eval -  0.09583333333333333\n",
      "11\n",
      "Eval -  0.13125\n",
      "12\n",
      "Eval -  0.12916666666666665\n",
      "13\n",
      "Eval -  0.09375\n",
      "14\n",
      "Eval -  0.09583333333333333\n",
      "15\n",
      "Eval -  0.19375\n",
      "16\n",
      "Eval -  0.13125\n",
      "17\n",
      "Eval -  0.16041666666666665\n",
      "18\n",
      "Eval -  0.1\n",
      "19\n",
      "Eval -  0.1625\n",
      "20\n",
      "Eval -  0.1625\n",
      "21\n",
      "Eval -  0.12916666666666665\n",
      "22\n",
      "Eval -  0.12708333333333333\n",
      "23\n",
      "Eval -  0.12708333333333333\n",
      "24\n",
      "Eval -  0.19166666666666665\n",
      "25\n",
      "Eval -  0.1625\n",
      "26\n",
      "Eval -  0.12708333333333333\n",
      "27\n",
      "Eval -  0.13125\n",
      "28\n",
      "Eval -  0.13125\n",
      "29\n",
      "Eval -  0.19166666666666665\n",
      "30\n",
      "Eval -  0.16041666666666665\n",
      "31\n",
      "Eval -  0.12708333333333333\n",
      "32\n",
      "Eval -  0.19166666666666665\n",
      "33\n",
      "Eval -  0.13125\n",
      "34\n",
      "Eval -  0.16041666666666665\n",
      "35\n",
      "Eval -  0.1625\n",
      "36\n",
      "Eval -  0.19166666666666665\n",
      "37\n",
      "Eval -  0.12916666666666665\n",
      "38\n",
      "Eval -  0.19166666666666665\n",
      "39\n",
      "Eval -  0.16458333333333333\n"
     ]
    }
   ],
   "source": [
    "f1s = []\n",
    "f1s_eval = []\n",
    "\n",
    "for i in range(40):\n",
    "    print(i)\n",
    "    f1s.append(train(model, training_generator, optimizer, criterion, 2000))\n",
    "    evl = evaluate(model, valid_generator, criterion)\n",
    "    print('Eval - ', evl)\n",
    "    f1s_eval.append(evl)"
   ]
  },
  {
   "cell_type": "code",
   "execution_count": 31,
   "id": "ae26aeb2",
   "metadata": {},
   "outputs": [
    {
     "data": {
      "image/png": "[encoded data removed]",
      "text/plain": [
       "<Figure size 640x480 with 1 Axes>"
      ]
     },
     "metadata": {},
     "output_type": "display_data"
    }
   ],
   "source": [
    "plt.plot(f1s)\n",
    "plt.plot(f1s_eval)\n",
    "plt.title('model f1 micro')\n",
    "plt.ylabel('f1')\n",
    "plt.xlabel('epoch')\n",
    "plt.legend(['train', 'val'], loc='upper left')\n",
    "plt.show()"
   ]
  },
  {
   "cell_type": "code",
   "execution_count": 32,
   "id": "9f1c4a8d",
   "metadata": {},
   "outputs": [],
   "source": [
    "valid_generator = torch.utils.data.DataLoader(valid_set, batch_size=32, shuffle=False)\n",
    "preds = predict(model, valid_generator)"
   ]
  },
  {
   "cell_type": "code",
   "execution_count": 33,
   "id": "e4c24bb4",
   "metadata": {},
   "outputs": [
    {
     "name": "stdout",
     "output_type": "stream",
     "text": [
      "              precision    recall  f1-score   support\n",
      "\n",
      "           0       0.00      0.00      0.00         2\n",
      "           1       1.00      0.20      0.33         5\n",
      "           2       0.00      0.00      0.00         4\n",
      "           3       0.11      0.33      0.17         3\n",
      "           4       0.00      0.00      0.00         1\n",
      "           5       0.10      0.67      0.17         3\n",
      "           7       0.00      0.00      0.00         2\n",
      "           9       0.00      0.00      0.00         2\n",
      "          10       0.00      0.00      0.00         1\n",
      "          12       0.00      0.00      0.00         2\n",
      "          13       1.00      0.33      0.50         3\n",
      "          14       0.00      0.00      0.00         2\n",
      "          15       0.00      0.00      0.00         1\n",
      "\n",
      "    accuracy                           0.16        31\n",
      "   macro avg       0.17      0.12      0.09        31\n",
      "weighted avg       0.28      0.16      0.14        31\n",
      "\n"
     ]
    },
    {
     "name": "stderr",
     "output_type": "stream",
     "text": [
      "/home/smertlove/sandbox/hse/nlp_hw/.venv/lib/python3.10/site-packages/sklearn/metrics/_classification.py:1531: UndefinedMetricWarning: Precision is ill-defined and being set to 0.0 in labels with no predicted samples. Use `zero_division` parameter to control this behavior.\n",
      "  _warn_prf(average, modifier, f\"{metric.capitalize()} is\", len(result))\n",
      "/home/smertlove/sandbox/hse/nlp_hw/.venv/lib/python3.10/site-packages/sklearn/metrics/_classification.py:1531: UndefinedMetricWarning: Precision is ill-defined and being set to 0.0 in labels with no predicted samples. Use `zero_division` parameter to control this behavior.\n",
      "  _warn_prf(average, modifier, f\"{metric.capitalize()} is\", len(result))\n",
      "/home/smertlove/sandbox/hse/nlp_hw/.venv/lib/python3.10/site-packages/sklearn/metrics/_classification.py:1531: UndefinedMetricWarning: Precision is ill-defined and being set to 0.0 in labels with no predicted samples. Use `zero_division` parameter to control this behavior.\n",
      "  _warn_prf(average, modifier, f\"{metric.capitalize()} is\", len(result))\n"
     ]
    }
   ],
   "source": [
    "print(classification_report(valid_targets, preds))"
   ]
  },
  {
   "cell_type": "markdown",
   "id": "8a523c71",
   "metadata": {},
   "source": [
    "### RuModernBERT без заморозки"
   ]
  },
  {
   "cell_type": "code",
   "execution_count": 17,
   "id": "3c4409d4",
   "metadata": {},
   "outputs": [],
   "source": [
    "model_id = \"deepvk/RuModernBERT-base\"\n",
    "tokenizer = AutoTokenizer.from_pretrained(model_id)\n",
    "model_bert = AutoModel.from_pretrained(model_id)"
   ]
  },
  {
   "cell_type": "code",
   "execution_count": 18,
   "id": "f2089ebc",
   "metadata": {},
   "outputs": [],
   "source": [
    "device = torch.device('cuda' if torch.cuda.is_available() else 'cpu')  \n",
    "model = CLF(tokenizer, model_bert, len(label2id))\n",
    "optimizer = optim.Adam(model.parameters(), lr=2e-4)\n",
    "criterion = nn.NLLLoss() \n",
    "model = model.to(device)\n",
    "criterion = criterion.to(device)"
   ]
  },
  {
   "cell_type": "code",
   "execution_count": 19,
   "id": "d8f78e9e",
   "metadata": {},
   "outputs": [
    {
     "name": "stdout",
     "output_type": "stream",
     "text": [
      "Percentage of trainable params:\n",
      "1.0000000000\n"
     ]
    }
   ],
   "source": [
    "print(\"Percentage of trainable params:\")\n",
    "print('{0:.10f}'.format(sum(p.numel() for p in model.parameters() if p.requires_grad)/sum(p.numel() for p in model.parameters())))"
   ]
  },
  {
   "cell_type": "code",
   "execution_count": 20,
   "id": "28487ac2",
   "metadata": {},
   "outputs": [],
   "source": [
    "training_set = Dataset(tokenizer, MAX_LEN, train_texts, train_targets)\n",
    "training_generator = torch.utils.data.DataLoader(training_set, batch_size=8, shuffle=True, )  # уменьшил батчсайз тк не влезал (cuda out of memory)\n",
    "valid_set = Dataset(tokenizer, MAX_LEN, valid_texts, valid_targets)\n",
    "valid_generator = torch.utils.data.DataLoader(valid_set, batch_size=8, shuffle=True)  # уменьшил батчсайз тк не влезал (cuda out of memory)"
   ]
  },
  {
   "cell_type": "code",
   "execution_count": 21,
   "id": "4168475e",
   "metadata": {},
   "outputs": [
    {
     "name": "stdout",
     "output_type": "stream",
     "text": [
      "0\n",
      "Eval -  0.09375\n",
      "1\n",
      "Eval -  0.1607142857142857\n",
      "2\n",
      "Eval -  0.09821428571428571\n",
      "3\n",
      "Eval -  0.16517857142857142\n",
      "4\n",
      "Eval -  0.125\n",
      "5\n",
      "Eval -  0.3214285714285714\n",
      "6\n",
      "Eval -  0.42410714285714285\n",
      "7\n",
      "Eval -  0.38839285714285715\n",
      "8\n",
      "Eval -  0.2589285714285714\n",
      "9\n",
      "Eval -  0.42410714285714285\n",
      "10\n",
      "Eval -  0.39285714285714285\n",
      "11\n",
      "Eval -  0.3839285714285714\n",
      "12\n",
      "Eval -  0.3526785714285714\n",
      "13\n",
      "Eval -  0.3973214285714286\n",
      "14\n",
      "Eval -  0.38839285714285715\n",
      "15\n",
      "Eval -  0.3839285714285714\n",
      "16\n",
      "Eval -  0.38839285714285715\n",
      "17\n",
      "Eval -  0.39285714285714285\n",
      "18\n",
      "Eval -  0.38839285714285715\n",
      "19\n",
      "Eval -  0.3839285714285714\n",
      "20\n",
      "Eval -  0.3839285714285714\n",
      "21\n",
      "Eval -  0.3839285714285714\n",
      "22\n",
      "Eval -  0.3839285714285714\n",
      "23\n",
      "Eval -  0.3839285714285714\n",
      "24\n",
      "Eval -  0.3839285714285714\n",
      "25\n",
      "Eval -  0.38839285714285715\n",
      "26\n",
      "Eval -  0.39285714285714285\n",
      "27\n",
      "Eval -  0.38839285714285715\n",
      "28\n",
      "Eval -  0.38839285714285715\n",
      "29\n",
      "Eval -  0.3794642857142857\n"
     ]
    }
   ],
   "source": [
    "f1s = []\n",
    "f1s_eval = []\n",
    "\n",
    "for i in range(30):\n",
    "    print(i)\n",
    "    f1s.append(train(model, training_generator, optimizer, criterion, 2000))\n",
    "    evl = evaluate(model, valid_generator, criterion)\n",
    "    print('Eval - ', evl)\n",
    "    f1s_eval.append(evl)"
   ]
  },
  {
   "cell_type": "code",
   "execution_count": 22,
   "id": "b2061f04",
   "metadata": {},
   "outputs": [
    {
     "data": {
      "image/png": "[encoded data removed]",
      "text/plain": [
       "<Figure size 640x480 with 1 Axes>"
      ]
     },
     "metadata": {},
     "output_type": "display_data"
    }
   ],
   "source": [
    "plt.plot(f1s)\n",
    "plt.plot(f1s_eval)\n",
    "plt.title('model f1 micro')\n",
    "plt.ylabel('f1')\n",
    "plt.xlabel('epoch')\n",
    "plt.legend(['train', 'val'], loc='upper left')\n",
    "plt.show()"
   ]
  },
  {
   "cell_type": "code",
   "execution_count": 23,
   "id": "59a4b574",
   "metadata": {},
   "outputs": [],
   "source": [
    "valid_generator = torch.utils.data.DataLoader(valid_set, batch_size=32, shuffle=False)\n",
    "preds = predict(model, valid_generator)"
   ]
  },
  {
   "cell_type": "code",
   "execution_count": 24,
   "id": "fb8880ea",
   "metadata": {},
   "outputs": [
    {
     "name": "stdout",
     "output_type": "stream",
     "text": [
      "              precision    recall  f1-score   support\n",
      "\n",
      "           0       0.50      0.33      0.40         3\n",
      "           1       0.00      0.00      0.00         3\n",
      "           2       0.50      0.25      0.33         4\n",
      "           4       0.00      0.00      0.00         3\n",
      "           5       0.12      1.00      0.22         1\n",
      "           6       0.50      0.25      0.33         4\n",
      "           7       0.33      1.00      0.50         1\n",
      "           8       1.00      0.75      0.86         4\n",
      "           9       0.00      0.00      0.00         1\n",
      "          10       0.00      0.00      0.00         1\n",
      "          11       1.00      1.00      1.00         1\n",
      "          12       0.00      0.00      0.00         0\n",
      "          13       1.00      1.00      1.00         1\n",
      "          14       0.00      0.00      0.00         2\n",
      "          15       0.00      0.00      0.00         0\n",
      "          16       0.50      1.00      0.67         2\n",
      "\n",
      "    accuracy                           0.39        31\n",
      "   macro avg       0.34      0.41      0.33        31\n",
      "weighted avg       0.42      0.39      0.37        31\n",
      "\n"
     ]
    },
    {
     "name": "stderr",
     "output_type": "stream",
     "text": [
      "/home/smertlove/sandbox/hse/nlp_hw/.venv/lib/python3.10/site-packages/sklearn/metrics/_classification.py:1531: UndefinedMetricWarning: Precision is ill-defined and being set to 0.0 in labels with no predicted samples. Use `zero_division` parameter to control this behavior.\n",
      "  _warn_prf(average, modifier, f\"{metric.capitalize()} is\", len(result))\n",
      "/home/smertlove/sandbox/hse/nlp_hw/.venv/lib/python3.10/site-packages/sklearn/metrics/_classification.py:1531: UndefinedMetricWarning: Recall is ill-defined and being set to 0.0 in labels with no true samples. Use `zero_division` parameter to control this behavior.\n",
      "  _warn_prf(average, modifier, f\"{metric.capitalize()} is\", len(result))\n",
      "/home/smertlove/sandbox/hse/nlp_hw/.venv/lib/python3.10/site-packages/sklearn/metrics/_classification.py:1531: UndefinedMetricWarning: Precision is ill-defined and being set to 0.0 in labels with no predicted samples. Use `zero_division` parameter to control this behavior.\n",
      "  _warn_prf(average, modifier, f\"{metric.capitalize()} is\", len(result))\n",
      "/home/smertlove/sandbox/hse/nlp_hw/.venv/lib/python3.10/site-packages/sklearn/metrics/_classification.py:1531: UndefinedMetricWarning: Recall is ill-defined and being set to 0.0 in labels with no true samples. Use `zero_division` parameter to control this behavior.\n",
      "  _warn_prf(average, modifier, f\"{metric.capitalize()} is\", len(result))\n",
      "/home/smertlove/sandbox/hse/nlp_hw/.venv/lib/python3.10/site-packages/sklearn/metrics/_classification.py:1531: UndefinedMetricWarning: Precision is ill-defined and being set to 0.0 in labels with no predicted samples. Use `zero_division` parameter to control this behavior.\n",
      "  _warn_prf(average, modifier, f\"{metric.capitalize()} is\", len(result))\n",
      "/home/smertlove/sandbox/hse/nlp_hw/.venv/lib/python3.10/site-packages/sklearn/metrics/_classification.py:1531: UndefinedMetricWarning: Recall is ill-defined and being set to 0.0 in labels with no true samples. Use `zero_division` parameter to control this behavior.\n",
      "  _warn_prf(average, modifier, f\"{metric.capitalize()} is\", len(result))\n"
     ]
    }
   ],
   "source": [
    "print(classification_report(valid_targets, preds))"
   ]
  },
  {
   "cell_type": "markdown",
   "id": "083f1ac4",
   "metadata": {},
   "source": [
    "### RuModernBERT с hidden states"
   ]
  },
  {
   "cell_type": "code",
   "execution_count": 39,
   "id": "b9e133f0",
   "metadata": {},
   "outputs": [],
   "source": [
    "class CLF_HS(nn.Module):\n",
    "    \n",
    "    def __init__(self, tokenizer, model, num_classes):\n",
    "        super().__init__()          \n",
    "        self.tokenizer = tokenizer # токенизатор\n",
    "        self.pretrained_model = model # предобученная модель\n",
    "        #\n",
    "        self.drop = nn.Dropout(0.3) # добавим дропаут чтобы не переобучалось\n",
    "        self.fc = nn.Linear(768, num_classes) \n",
    "        self.act = nn.LogSoftmax(1) \n",
    "        \n",
    "    def forward(self, texts):\n",
    "        mask = (texts != self.tokenizer.pad_token_id).long()\n",
    "        output = self.pretrained_model(texts, attention_mask=mask, output_hidden_states=True)\n",
    "        hidden_states = output.hidden_states\n",
    "\n",
    "        pooled_output = torch.stack([torch.mean(hs.float(), dim=1) for hs in hidden_states[1:]]).mean(dim=0)\n",
    "\n",
    "        dropped_output = self.drop(pooled_output)\n",
    "        dense_outputs = self.fc(dropped_output)\n",
    "\n",
    "        outputs = self.act(dense_outputs)\n",
    "        \n",
    "        return outputs"
   ]
  },
  {
   "cell_type": "code",
   "execution_count": 40,
   "id": "803f95e4",
   "metadata": {},
   "outputs": [],
   "source": [
    "model_id = \"deepvk/RuModernBERT-base\"\n",
    "tokenizer = AutoTokenizer.from_pretrained(model_id)\n",
    "model_bert = AutoModel.from_pretrained(model_id)\n",
    "\n",
    "for param in model_bert.parameters():\n",
    "    param.requires_grad = False"
   ]
  },
  {
   "cell_type": "code",
   "execution_count": 41,
   "id": "08ae3bbf",
   "metadata": {},
   "outputs": [],
   "source": [
    "training_set = Dataset(tokenizer, MAX_LEN, train_texts, train_targets)\n",
    "training_generator = torch.utils.data.DataLoader(training_set, batch_size=16, shuffle=True, )\n",
    "valid_set = Dataset(tokenizer, MAX_LEN, valid_texts, valid_targets)\n",
    "valid_generator = torch.utils.data.DataLoader(valid_set, batch_size=16, shuffle=True)"
   ]
  },
  {
   "cell_type": "code",
   "execution_count": 42,
   "id": "fb08202c",
   "metadata": {},
   "outputs": [],
   "source": [
    "device = torch.device('cuda' if torch.cuda.is_available() else 'cpu')  \n",
    "model = CLF_HS(tokenizer, model_bert, len(label2id))\n",
    "optimizer = optim.Adam(model.parameters(), lr=2e-4)\n",
    "criterion = nn.NLLLoss() \n",
    "model = model.to(device)\n",
    "criterion = criterion.to(device)"
   ]
  },
  {
   "cell_type": "code",
   "execution_count": 43,
   "id": "d40382ba",
   "metadata": {},
   "outputs": [
    {
     "name": "stdout",
     "output_type": "stream",
     "text": [
      "Percentage of trainable params:\n",
      "0.0000877222\n"
     ]
    }
   ],
   "source": [
    "print(\"Percentage of trainable params:\")\n",
    "print('{0:.10f}'.format(sum(p.numel() for p in model.parameters() if p.requires_grad)/sum(p.numel() for p in model.parameters())))"
   ]
  },
  {
   "cell_type": "code",
   "execution_count": 44,
   "id": "57b190f9",
   "metadata": {},
   "outputs": [
    {
     "name": "stdout",
     "output_type": "stream",
     "text": [
      "0\n",
      "Eval -  0.0625\n",
      "1\n",
      "Eval -  0.09791666666666667\n",
      "2\n",
      "Eval -  0.29166666666666663\n",
      "3\n",
      "Eval -  0.2875\n",
      "4\n",
      "Eval -  0.35416666666666663\n",
      "5\n",
      "Eval -  0.3833333333333333\n",
      "6\n",
      "Eval -  0.42083333333333334\n",
      "7\n",
      "Eval -  0.44791666666666663\n",
      "8\n",
      "Eval -  0.41875\n",
      "9\n",
      "Eval -  0.4875\n",
      "10\n",
      "Eval -  0.5166666666666666\n",
      "11\n",
      "Eval -  0.5833333333333333\n",
      "12\n",
      "Eval -  0.5770833333333334\n",
      "13\n",
      "Eval -  0.5791666666666666\n",
      "14\n",
      "Eval -  0.6520833333333333\n",
      "15\n",
      "Eval -  0.6083333333333334\n",
      "16\n",
      "Eval -  0.6145833333333333\n",
      "17\n",
      "Eval -  0.6083333333333334\n",
      "18\n",
      "Eval -  0.6104166666666666\n",
      "19\n",
      "Eval -  0.58125\n",
      "20\n",
      "Eval -  0.5791666666666666\n",
      "21\n",
      "Eval -  0.5791666666666666\n",
      "22\n",
      "Eval -  0.6145833333333333\n",
      "23\n",
      "Eval -  0.6125\n",
      "24\n",
      "Eval -  0.6104166666666666\n",
      "25\n",
      "Eval -  0.6166666666666667\n",
      "26\n",
      "Eval -  0.5770833333333334\n",
      "27\n",
      "Eval -  0.675\n",
      "28\n",
      "Eval -  0.64375\n",
      "29\n",
      "Eval -  0.6104166666666666\n",
      "30\n",
      "Eval -  0.5833333333333333\n",
      "31\n",
      "Eval -  0.5791666666666666\n",
      "32\n",
      "Eval -  0.64375\n",
      "33\n",
      "Eval -  0.64375\n",
      "34\n",
      "Eval -  0.675\n",
      "35\n",
      "Eval -  0.6145833333333333\n",
      "36\n",
      "Eval -  0.6104166666666666\n",
      "37\n",
      "Eval -  0.6479166666666667\n",
      "38\n",
      "Eval -  0.6125\n",
      "39\n",
      "Eval -  0.6395833333333334\n"
     ]
    }
   ],
   "source": [
    "f1s = []\n",
    "f1s_eval = []\n",
    "\n",
    "for i in range(40):\n",
    "    print(i)\n",
    "    f1s.append(train(model, training_generator, optimizer, criterion, 2000))\n",
    "    evl = evaluate(model, valid_generator, criterion)\n",
    "    print('Eval - ', evl)\n",
    "    f1s_eval.append(evl)"
   ]
  },
  {
   "cell_type": "code",
   "execution_count": 45,
   "id": "08f4c336",
   "metadata": {},
   "outputs": [
    {
     "data": {
      "image/png": "[encoded data removed]",
      "text/plain": [
       "<Figure size 640x480 with 1 Axes>"
      ]
     },
     "metadata": {},
     "output_type": "display_data"
    }
   ],
   "source": [
    "plt.plot(f1s)\n",
    "plt.plot(f1s_eval)\n",
    "plt.title('model f1 micro')\n",
    "plt.ylabel('f1')\n",
    "plt.xlabel('epoch')\n",
    "plt.legend(['train', 'val'], loc='upper left')\n",
    "plt.show()"
   ]
  },
  {
   "cell_type": "code",
   "execution_count": 46,
   "id": "0725a3dd",
   "metadata": {},
   "outputs": [],
   "source": [
    "valid_generator = torch.utils.data.DataLoader(valid_set, batch_size=32, shuffle=False)\n",
    "preds = predict(model, valid_generator)"
   ]
  },
  {
   "cell_type": "code",
   "execution_count": 47,
   "id": "d2d2875e",
   "metadata": {},
   "outputs": [
    {
     "name": "stdout",
     "output_type": "stream",
     "text": [
      "              precision    recall  f1-score   support\n",
      "\n",
      "           0       0.33      0.33      0.33         3\n",
      "           1       1.00      0.67      0.80         3\n",
      "           2       0.50      0.25      0.33         4\n",
      "           4       0.75      1.00      0.86         3\n",
      "           5       0.00      0.00      0.00         1\n",
      "           6       1.00      0.75      0.86         4\n",
      "           7       0.25      1.00      0.40         1\n",
      "           8       1.00      1.00      1.00         4\n",
      "           9       0.00      0.00      0.00         1\n",
      "          10       1.00      1.00      1.00         1\n",
      "          11       1.00      1.00      1.00         1\n",
      "          13       0.00      0.00      0.00         1\n",
      "          14       0.33      0.50      0.40         2\n",
      "          16       0.50      1.00      0.67         2\n",
      "\n",
      "    accuracy                           0.65        31\n",
      "   macro avg       0.55      0.61      0.55        31\n",
      "weighted avg       0.65      0.65      0.62        31\n",
      "\n"
     ]
    },
    {
     "name": "stderr",
     "output_type": "stream",
     "text": [
      "/home/smertlove/sandbox/hse/nlp_hw/.venv/lib/python3.10/site-packages/sklearn/metrics/_classification.py:1531: UndefinedMetricWarning: Precision is ill-defined and being set to 0.0 in labels with no predicted samples. Use `zero_division` parameter to control this behavior.\n",
      "  _warn_prf(average, modifier, f\"{metric.capitalize()} is\", len(result))\n",
      "/home/smertlove/sandbox/hse/nlp_hw/.venv/lib/python3.10/site-packages/sklearn/metrics/_classification.py:1531: UndefinedMetricWarning: Precision is ill-defined and being set to 0.0 in labels with no predicted samples. Use `zero_division` parameter to control this behavior.\n",
      "  _warn_prf(average, modifier, f\"{metric.capitalize()} is\", len(result))\n",
      "/home/smertlove/sandbox/hse/nlp_hw/.venv/lib/python3.10/site-packages/sklearn/metrics/_classification.py:1531: UndefinedMetricWarning: Precision is ill-defined and being set to 0.0 in labels with no predicted samples. Use `zero_division` parameter to control this behavior.\n",
      "  _warn_prf(average, modifier, f\"{metric.capitalize()} is\", len(result))\n"
     ]
    }
   ],
   "source": [
    "print(classification_report(valid_targets, preds))"
   ]
  },
  {
   "cell_type": "markdown",
   "id": "a3385e80",
   "metadata": {},
   "source": [
    "### Overview\n",
    "\n",
    "Забавно, что f1 по accuracy для обеих моделей ModernBERT получилась <s>одинаково плохой</s> одинаковой. RuModernBERT с заморозкой показал самые плохие результаты (и график у него такой, будто ему плохо)."
   ]
  }
 ],
 "metadata": {
  "kernelspec": {
   "display_name": ".venv",
   "language": "python",
   "name": "python3"
  },
  "language_info": {
   "codemirror_mode": {
    "name": "ipython",
    "version": 3
   },
   "file_extension": ".py",
   "mimetype": "text/x-python",
   "name": "python",
   "nbconvert_exporter": "python",
   "pygments_lexer": "ipython3",
   "version": "3.10.12"
  }
 },
 "nbformat": 4,
 "nbformat_minor": 5
}
